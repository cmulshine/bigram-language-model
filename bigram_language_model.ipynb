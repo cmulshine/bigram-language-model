{
 "cells": [
  {
   "cell_type": "code",
   "execution_count": 1,
   "id": "cfe4db71-9db9-4507-bb4e-eaab79cf6cc6",
   "metadata": {},
   "outputs": [],
   "source": [
    "import numpy as np\n",
    "import matplotlib.pyplot as plt\n",
    "import random"
   ]
  },
  {
   "cell_type": "code",
   "execution_count": 2,
   "id": "fce64559-dbde-4528-8105-a9da532b8e35",
   "metadata": {},
   "outputs": [],
   "source": [
    "### Cleaning the original file\n",
    "\n",
    "with open('The_Project_Gutenberg.txt', 'r', encoding='utf-8') as file:\n",
    "    revised = []\n",
    "    intro = 79\n",
    "    end = 355\n",
    "    for line in file.readlines()[intro:-end]:\n",
    "        revised.append(line.lower().replace('.',' PERIOD').replace('!',' PERIOD').replace('?',' PERIOD').replace(',','').replace(':','').replace(';','').replace('$','').replace('(','').replace(')','').replace('_','').replace('&','').replace('/\"','').replace('*','').replace('\"','').replace('”','').replace('“','').replace('—','').replace('0','').replace('1','').replace('2','').replace('3','').replace('4','').replace('5','').replace('6','').replace('7','').replace('8','').replace('9',''))\n",
    "\n",
    "clean_revised = list()\n",
    "clean_revised = '\\n'.join(revised).split()"
   ]
  },
  {
   "cell_type": "code",
   "execution_count": 3,
   "id": "68b9998b-7609-4b00-bea0-71d01ed6f394",
   "metadata": {},
   "outputs": [],
   "source": [
    "### Creating list of consecutive words (bigrams)\n",
    "\n",
    "bigrams = list()\n",
    "\n",
    "for i in range(len(clean_revised) - 1):\n",
    "    bigrams.append(tuple(clean_revised[i:i+2]))\n",
    "\n",
    "\n",
    "### Creating sorted list of unique words\n",
    "\n",
    "unique_words = list()\n",
    "for word in clean_revised:\n",
    "    if word in unique_words:\n",
    "        continue\n",
    "    else:\n",
    "        unique_words.append(word)\n",
    "\n",
    "sorted_unique_words = sorted(unique_words)\n",
    "\n",
    "\n",
    "### Creating a dictionary to assign each unique word to a number\n",
    "\n",
    "word_assignment = dict()\n",
    "\n",
    "i = 0\n",
    "for word in sorted_unique_words:\n",
    "    word_assignment[word] = i\n",
    "    i += 1"
   ]
  },
  {
   "cell_type": "code",
   "execution_count": 4,
   "id": "2b0b61ba-8436-455b-a81e-4cc9fbeea99d",
   "metadata": {
    "tags": []
   },
   "outputs": [],
   "source": [
    "   \n",
    "# Creating matrix of zeroes, with length equal to # of unique words\n",
    "\n",
    "size = (len(sorted_unique_words), len(sorted_unique_words))\n",
    "freq_matrix = np.zeros(size, dtype=int)\n",
    "\n",
    "    \n",
    "### Populating matrix by adding 1 every time the bigram occurs in the text\n",
    "\n",
    "for pair in bigrams:\n",
    "    freq_matrix[word_assignment.get(pair[0]), word_assignment.get(pair[1])] += 1\n",
    "    \n",
    "\n",
    "### Converting the frequency matrix to a probability matrix\n",
    "\n",
    "prob_matrix = np.zeros(size)\n",
    "\n",
    "for i in range(len(freq_matrix)):\n",
    "    prob_matrix[i] = freq_matrix[i] / freq_matrix.sum(axis=1)[i]"
   ]
  },
  {
   "cell_type": "code",
   "execution_count": 5,
   "id": "e1dfe6c4-4692-4b48-898f-389479bab7d6",
   "metadata": {},
   "outputs": [
    {
     "name": "stdout",
     "output_type": "stream",
     "text": [
      "transmit itself. digging the sunrise when i declined paying the catching a. honesty and warmest and faculties which i set round the. returned from the walls being spoken language of truth we. reflection i have drunk and that during the birds fly. concealment and boys it reminded of his food or forty. lark and sometimes having no wit or two patterns which. ditcher. worship among men are regarded as the wood even impose. nibbled for fire that the same shore yet they make. repugnance to the while it should soon as well what. safely into a like a few sticks are the white. herbs or more beautiful housekeeping. actually eaten. fix their habits. maintained that case i had capital using the atlantic and. nations come and the same earth four dollars and the. odd fellowone who ever caught up in scripture. threaded the shore line of an eye peering from animal. remarkably smooth betrayed himself to detect how the hilarious rules. drenched to most successfully and i am its deepest snow. concentrated sweet as the place of the sun and the. whom the standing up densely. hopeless and round and established order and strength to preserve. been the ice over that the queerest chuckling and the. immense capital enough to weave arguments or a philosopher is. expresses a few auger holes were compelled to deal like. diminished in an old man be to make our beds. disperse on the bone where he goes to their dirty. critical hour in the potato and suggests what but a. pair a visit the marmots in new england. tarn high as willingly and webster is the greatest depth. errand are any power from that the last of grasping. journey such is thought must it requires so simple and. sibyl-like cone-headed infant dreams. esquire gentleman farmer in the seeds of this dry and. foolishness of development. top-most stick was relieved by we slept with his hatching. flannel shirt. infant that i have been in this theme of such. smoothed and sell baskets and by my brown or as. inhabitant of infernal plutus rather my house. dilettantism. succeed him to its stony shore of the assurance it. literally a more right is very element and yawned like. thought-free fancy-free imagination-free that i am i cannot find out. remove the light so brave chanticleer in the oldest egyptian. dulness thereafter. duncan ingraham slave keeps himself by the art of entry. regulated by shows men molest when my winters as some. smoothness of understandings could really hear that walden are.. stole for a mat but seek the lower heaven or. philanthropic enterprises and the establishment were to find you as. derived and his commonly men date was as the legislature. th of solid grass blades are hardly used a thing. hollows and this advantage without ill-will without rabbits partridgesby gosh. old haunts of these things to help put himself and. doing penance are the snowy days as you meet at. paradise. brook and independent lives constructing his occasion for the tenant. stereotyped but now. unconsciously steering like virtues and i do not abundant crop. fruitful. honestly bestow it was pleased to live cheaply nor i. dovecots. talaria to have constructed a comfortable house which to the. inclination each morning as delphi and unnecessary the last shift. absolute existencethat petty fears than this hint which party who. fro with a trifling in these the mocking-bird is placed. loss by turns. mineral and debauched veins. microcosm himself at ° in the corrosion of wells which. sadi of government cannot do the wind had done thinking. answered the snow to me good they can not where. vary more substantial shelter can dim and warm like a. experiment’s sake of those things and reduce it even the. oblong perpendicular bubbles which wise squirrels also of my neighborhood. gap in the trader among whom we can find you. islet cheered if any power of the warmth as for. comprehended in such is our correspondent. paradise. sprightly day or five miles south where you don’t let. form reflected in the rocks in seniority and buoys to. striped snake casts us and pursue the mungo park the. flapped through cloud like a government but sends its details. hewed the dumps or thirty miles of salt water somewhat. copy and yet the influence of plenty be in the. reminded him he would be found a vulgar error to. tonic of the price of some cow-boy tends. midwinter. successively deposited in your woodchucks ready for my own that. ridge of us that walden which i suspect that we. nine-acre-corner bridge standing on a fishhawk sitting on its short. chip for doing-good that it. peaceably inclined. t’other side standing on to ourselves wise. consenting to know of a stiff neck feathers and perch. dove disappear before the undulation of spring influence would not. interpretation. sacontala we should really left between land though needlessly poor.\n"
     ]
    }
   ],
   "source": [
    "### NOTE: this code will take a bit of time to run, due to the calculations being performed.\n",
    "\n",
    "### Generating text based on frequency matrix. \n",
    "### Each sentence starts with a random word (outer For loop), and each ensuing word is based on frequency matrix (inner For loop).\n",
    "### Generates 100 sentences, each with a max of 10 words.\n",
    "\n",
    "new_poem = list()\n",
    "length = 100\n",
    "max_sentence = 10\n",
    "\n",
    "\n",
    "for i in sorted_unique_words[:length]:\n",
    "    last_word = sorted_unique_words[np.random.randint(0,len(sorted_unique_words))]\n",
    "    new_poem.append(last_word)\n",
    "    counter = 1\n",
    "    for word in sorted_unique_words:\n",
    "        new_word = random.choices(sorted_unique_words, prob_matrix[word_assignment.get(last_word)])[0]\n",
    "        new_poem.append(new_word)\n",
    "        last_word = new_word\n",
    "        counter += 1\n",
    "        if counter == max_sentence:\n",
    "            new_poem.append('PERIOD')\n",
    "            break\n",
    "        if last_word == 'PERIOD':\n",
    "            break\n",
    "\n",
    "clean_new_poem = ' '.join(new_poem).replace('PERIOD','.').replace(' .','.')\n",
    "print(clean_new_poem)"
   ]
  }
 ],
 "metadata": {
  "kernelspec": {
   "display_name": "Python 3 (ipykernel)",
   "language": "python",
   "name": "python3"
  },
  "language_info": {
   "codemirror_mode": {
    "name": "ipython",
    "version": 3
   },
   "file_extension": ".py",
   "mimetype": "text/x-python",
   "name": "python",
   "nbconvert_exporter": "python",
   "pygments_lexer": "ipython3",
   "version": "3.9.12"
  }
 },
 "nbformat": 4,
 "nbformat_minor": 5
}
